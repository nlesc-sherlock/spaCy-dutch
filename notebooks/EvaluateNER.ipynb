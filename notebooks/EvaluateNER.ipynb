{
 "cells": [
  {
   "cell_type": "code",
   "execution_count": 1,
   "metadata": {
    "collapsed": true
   },
   "outputs": [],
   "source": [
    "import spacy\n",
    "import codecs\n",
    "from spacy.gold import GoldParse\n",
    "import sys"
   ]
  },
  {
   "cell_type": "code",
   "execution_count": 2,
   "metadata": {
    "collapsed": false
   },
   "outputs": [],
   "source": [
    "sys.path.append(\"..\")\n",
    "import models"
   ]
  },
  {
   "cell_type": "code",
   "execution_count": 3,
   "metadata": {
    "collapsed": true
   },
   "outputs": [],
   "source": [
    "filepath = '/media/sf_VBox_Shared/nlppln/NER/'\n",
    "filepath_train = filepath+'ned.train'\n",
    "filepath_test = filepath+'ned.testa'"
   ]
  },
  {
   "cell_type": "code",
   "execution_count": 4,
   "metadata": {
    "collapsed": true
   },
   "outputs": [],
   "source": [
    "nlp = spacy.load('nl')"
   ]
  },
  {
   "cell_type": "code",
   "execution_count": 6,
   "metadata": {
    "collapsed": false
   },
   "outputs": [
    {
     "name": "stdout",
     "output_type": "stream",
     "text": [
      "(u'Piet', u'VZ(init)', u'', 'O')\n",
      "(u'leest', u'WW(pv,verl,ev)', u'', 'O')\n",
      "(u'een', u'LET()', u'', 'O')\n",
      "(u'boek', u'N(soort,ev,basis,zijd,stan)', u'', 'O')\n",
      "(u'.', u'VZ(init)', u'', 'O')\n"
     ]
    }
   ],
   "source": [
    "example_doc = nlp(u'Piet leest een boek.')\n",
    "for word in example_doc:\n",
    "    print(word.text, word.tag_, word.ent_type_, word.ent_iob_)"
   ]
  },
  {
   "cell_type": "code",
   "execution_count": 17,
   "metadata": {
    "collapsed": true
   },
   "outputs": [],
   "source": [
    "ner = nlp.entity"
   ]
  },
  {
   "cell_type": "code",
   "execution_count": 18,
   "metadata": {
    "collapsed": false
   },
   "outputs": [
    {
     "name": "stdout",
     "output_type": "stream",
     "text": [
      "CONNL dataset loaded.\n"
     ]
    }
   ],
   "source": [
    "docs_test, pos_test, entities_test = models.NERtagger.read_connl(filepath_test, nlp.vocab)"
   ]
  },
  {
   "cell_type": "code",
   "execution_count": 39,
   "metadata": {
    "collapsed": false
   },
   "outputs": [],
   "source": [
    "scorer = spacy.scorer.Scorer()\n",
    "for doc, ent in zip(docs_test, entities_test):\n",
    "    ner(doc)\n",
    "    gold = GoldParse(doc, entities=ent, deps=['']*len(doc))\n",
    "    scorer.score(doc, gold, verbose=True, punct_labels=('p', 'punct'))"
   ]
  },
  {
   "cell_type": "code",
   "execution_count": 40,
   "metadata": {
    "collapsed": false
   },
   "outputs": [
    {
     "data": {
      "text/plain": [
       "{u'ents_f': 37.40379681888148,\n",
       " u'ents_p': 53.72144436256448,\n",
       " u'ents_r': 28.689492325855966,\n",
       " u'las': 100.0,\n",
       " u'tags_acc': 0.0,\n",
       " u'token_acc': 100.0,\n",
       " u'uas': 100.0}"
      ]
     },
     "execution_count": 40,
     "metadata": {},
     "output_type": "execute_result"
    }
   ],
   "source": [
    "scorer.scores"
   ]
  },
  {
   "cell_type": "code",
   "execution_count": null,
   "metadata": {
    "collapsed": true
   },
   "outputs": [],
   "source": []
  }
 ],
 "metadata": {
  "anaconda-cloud": {},
  "kernelspec": {
   "display_name": "Python [conda env:nlppln]",
   "language": "python",
   "name": "conda-env-nlppln-py"
  },
  "language_info": {
   "codemirror_mode": {
    "name": "ipython",
    "version": 2
   },
   "file_extension": ".py",
   "mimetype": "text/x-python",
   "name": "python",
   "nbconvert_exporter": "python",
   "pygments_lexer": "ipython2",
   "version": "2.7.12"
  }
 },
 "nbformat": 4,
 "nbformat_minor": 0
}
