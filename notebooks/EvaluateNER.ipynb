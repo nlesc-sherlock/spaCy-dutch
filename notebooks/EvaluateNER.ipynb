{
 "cells": [
  {
   "cell_type": "code",
   "execution_count": 1,
   "metadata": {
    "collapsed": true
   },
   "outputs": [],
   "source": [
    "import spacy\n",
    "import codecs\n",
    "from spacy.gold import GoldParse\n",
    "import sys"
   ]
  },
  {
   "cell_type": "code",
   "execution_count": 2,
   "metadata": {
    "collapsed": false
   },
   "outputs": [],
   "source": [
    "sys.path.append(\"..\")\n",
    "import models"
   ]
  },
  {
   "cell_type": "code",
   "execution_count": 3,
   "metadata": {
    "collapsed": true
   },
   "outputs": [],
   "source": [
    "#filepath = '/media/sf_VBox_Shared/nlppln/NER/'\n",
    "filepath = '/home/jvdzwaan/Downloads/'\n",
    "filepath_train = filepath+'ned.train'\n",
    "filepath_test = filepath+'ned.testa'\n",
    "#filepath_test = filepath+'ned.testb'"
   ]
  },
  {
   "cell_type": "code",
   "execution_count": 4,
   "metadata": {
    "collapsed": false
   },
   "outputs": [],
   "source": [
    "nlp = spacy.load('nl')"
   ]
  },
  {
   "cell_type": "code",
   "execution_count": 5,
   "metadata": {
    "collapsed": false
   },
   "outputs": [
    {
     "name": "stdout",
     "output_type": "stream",
     "text": [
      "(u'Piet', u'PROPN', u'', 'O')\n",
      "(u'leest', u'VERB', u'', 'O')\n",
      "(u'een', u'DET', u'', 'O')\n",
      "(u'boek', u'NOUN', u'', 'O')\n",
      "(u'.', u'PUNCT', u'', 'O')\n"
     ]
    }
   ],
   "source": [
    "example_doc = nlp(u'Piet leest een boek.')\n",
    "for word in example_doc:\n",
    "    print(word.text, word.tag_, word.ent_type_, word.ent_iob_)"
   ]
  },
  {
   "cell_type": "code",
   "execution_count": 6,
   "metadata": {
    "collapsed": true
   },
   "outputs": [],
   "source": [
    "ner = nlp.entity"
   ]
  },
  {
   "cell_type": "code",
   "execution_count": 7,
   "metadata": {
    "collapsed": false
   },
   "outputs": [
    {
     "name": "stdout",
     "output_type": "stream",
     "text": [
      "CONNL dataset loaded.\n"
     ]
    }
   ],
   "source": [
    "docs_test, pos_test, entities_test = models.NERtagger.read_connl(filepath_test, nlp.vocab)"
   ]
  },
  {
   "cell_type": "code",
   "execution_count": 8,
   "metadata": {
    "collapsed": false
   },
   "outputs": [],
   "source": [
    "scorer = spacy.scorer.Scorer()\n",
    "for doc, ent in zip(docs_test, entities_test):\n",
    "    ner(doc)\n",
    "    gold = GoldParse(doc, entities=ent, deps=['']*len(doc))\n",
    "    scorer.score(doc, gold, verbose=True, punct_labels=('p', 'punct'))"
   ]
  },
  {
   "cell_type": "code",
   "execution_count": 9,
   "metadata": {
    "collapsed": false
   },
   "outputs": [
    {
     "data": {
      "text/plain": [
       "{u'ents_f': 67.31747000203376,\n",
       " u'ents_p': 69.65488215488216,\n",
       " u'ents_r': 65.13183785911059,\n",
       " u'las': 100.0,\n",
       " u'tags_acc': 0.0,\n",
       " u'token_acc': 100.0,\n",
       " u'uas': 100.0}"
      ]
     },
     "execution_count": 9,
     "metadata": {},
     "output_type": "execute_result"
    }
   ],
   "source": [
    "scorer.scores"
   ]
  },
  {
   "cell_type": "code",
   "execution_count": null,
   "metadata": {
    "collapsed": true
   },
   "outputs": [],
   "source": []
  }
 ],
 "metadata": {
  "anaconda-cloud": {},
  "kernelspec": {
   "display_name": "Python 2",
   "language": "python",
   "name": "python2"
  },
  "language_info": {
   "codemirror_mode": {
    "name": "ipython",
    "version": 2
   },
   "file_extension": ".py",
   "mimetype": "text/x-python",
   "name": "python",
   "nbconvert_exporter": "python",
   "pygments_lexer": "ipython2",
   "version": "2.7.11+"
  }
 },
 "nbformat": 4,
 "nbformat_minor": 0
}
