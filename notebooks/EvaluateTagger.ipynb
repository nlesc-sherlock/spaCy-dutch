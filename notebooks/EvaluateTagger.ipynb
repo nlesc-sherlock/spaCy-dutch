{
 "cells": [
  {
   "cell_type": "code",
   "execution_count": 1,
   "metadata": {
    "collapsed": true
   },
   "outputs": [],
   "source": [
    "import spacy\n",
    "import codecs\n",
    "from spacy.gold import GoldParse\n",
    "import sys"
   ]
  },
  {
   "cell_type": "code",
   "execution_count": 2,
   "metadata": {
    "collapsed": false
   },
   "outputs": [],
   "source": [
    "sys.path.append(\"..\")\n",
    "import models"
   ]
  },
  {
   "cell_type": "code",
   "execution_count": 3,
   "metadata": {
    "collapsed": true
   },
   "outputs": [],
   "source": [
    "filepath = '/media/sf_VBox_Shared/nlppln/data/UD_Dutch-master/'\n",
    "filepath_train = filepath+'nl-ud-train.conllu'\n",
    "filepath_test = filepath+'nl-ud-test.conllu'"
   ]
  },
  {
   "cell_type": "code",
   "execution_count": 4,
   "metadata": {
    "collapsed": true
   },
   "outputs": [],
   "source": [
    "nlp = spacy.load('nl')"
   ]
  },
  {
   "cell_type": "code",
   "execution_count": 5,
   "metadata": {
    "collapsed": false
   },
   "outputs": [
    {
     "name": "stdout",
     "output_type": "stream",
     "text": [
      "(u'Piet', u'PRON', u'', 'O')\n",
      "(u'leest', u'VERB', u'', 'O')\n",
      "(u'een', u'DET', u'', 'O')\n",
      "(u'boek', u'NOUN', u'', 'O')\n",
      "(u'.', u'ADP', u'', 'O')\n"
     ]
    }
   ],
   "source": [
    "example_doc = nlp(u'Piet leest een boek.')\n",
    "for word in example_doc:\n",
    "    print(word.text, word.tag_, word.ent_type_, word.ent_iob_)"
   ]
  },
  {
   "cell_type": "code",
   "execution_count": 6,
   "metadata": {
    "collapsed": true
   },
   "outputs": [],
   "source": [
    "pos = nlp.tagger"
   ]
  },
  {
   "cell_type": "code",
   "execution_count": 7,
   "metadata": {
    "collapsed": true
   },
   "outputs": [],
   "source": [
    "def get_sentence(data):\n",
    "    words = []\n",
    "    tags = []\n",
    "    parts = data.split('\\n')\n",
    "    if parts:\n",
    "        for part in parts:\n",
    "            if not part.startswith('#'):\n",
    "                d = part.split()\n",
    "                if len(d) > 3:\n",
    "                    words.append(d[1])\n",
    "                    tags.append(d[3])\n",
    "                \n",
    "    return words, tags\n",
    "    \n",
    "\n",
    "def read_connl(filepath):\n",
    "    with codecs.open(filepath, encoding='utf-8') as f:\n",
    "        data = f.read()\n",
    "        \n",
    "    sentences = data.split('\\n\\n')\n",
    "    for sentence in sentences:\n",
    "        yield get_sentence(sentence)"
   ]
  },
  {
   "cell_type": "code",
   "execution_count": 8,
   "metadata": {
    "collapsed": false
   },
   "outputs": [],
   "source": [
    "docs_test = []\n",
    "tags_test = []\n",
    "scorer = spacy.scorer.Scorer()\n",
    "for w,t in read_connl(filepath_test):\n",
    "    doc = spacy.tokens.Doc(nlp.vocab, words=w)\n",
    "    pos(doc)\n",
    "    nlp.entity(doc)\n",
    "    gold = GoldParse(doc, tags=t, entities=['O']*len(t), deps=['']*len(doc))\n",
    "    docs_test.append(doc)\n",
    "    tags_test.append(t)\n",
    "    scorer.score(doc, gold, verbose=True)"
   ]
  },
  {
   "cell_type": "code",
   "execution_count": 9,
   "metadata": {
    "collapsed": false
   },
   "outputs": [
    {
     "data": {
      "text/plain": [
       "{u'ents_f': 0.0,\n",
       " u'ents_p': 0.0,\n",
       " u'ents_r': 0.0,\n",
       " u'las': 100.0,\n",
       " u'tags_acc': 32.22659592674996,\n",
       " u'token_acc': 100.0,\n",
       " u'uas': 100.0}"
      ]
     },
     "execution_count": 9,
     "metadata": {},
     "output_type": "execute_result"
    }
   ],
   "source": [
    "scorer.scores"
   ]
  },
  {
   "cell_type": "code",
   "execution_count": null,
   "metadata": {
    "collapsed": true
   },
   "outputs": [],
   "source": []
  }
 ],
 "metadata": {
  "anaconda-cloud": {},
  "kernelspec": {
   "display_name": "Python 2",
   "language": "python",
   "name": "python2"
  },
  "language_info": {
   "codemirror_mode": {
    "name": "ipython",
    "version": 2
   },
   "file_extension": ".py",
   "mimetype": "text/x-python",
   "name": "python",
   "nbconvert_exporter": "python",
   "pygments_lexer": "ipython2",
   "version": "2.7.11+"
  }
 },
 "nbformat": 4,
 "nbformat_minor": 0
}
