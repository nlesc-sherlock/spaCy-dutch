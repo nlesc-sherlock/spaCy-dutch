{
 "cells": [
  {
   "cell_type": "code",
   "execution_count": 3,
   "metadata": {
    "collapsed": true
   },
   "outputs": [],
   "source": [
    "import spacy\n",
    "import codecs\n",
    "from spacy.gold import GoldParse\n",
    "import sys"
   ]
  },
  {
   "cell_type": "code",
   "execution_count": 4,
   "metadata": {
    "collapsed": false
   },
   "outputs": [],
   "source": [
    "sys.path.append(\"..\")\n",
    "import models"
   ]
  },
  {
   "cell_type": "code",
   "execution_count": 6,
   "metadata": {
    "collapsed": true
   },
   "outputs": [],
   "source": [
    "filepath = '/media/sf_VBox_Shared/nlppln/NER/'\n",
    "filepath_train = filepath+'ned.train'\n",
    "filepath_test = filepath+'ned.testa'"
   ]
  },
  {
   "cell_type": "code",
   "execution_count": null,
   "metadata": {
    "collapsed": true
   },
   "outputs": [],
   "source": [
    "nlp = spacy.load('nl')"
   ]
  },
  {
   "cell_type": "code",
   "execution_count": 18,
   "metadata": {
    "collapsed": true
   },
   "outputs": [],
   "source": [
    "ner = nlp.entity"
   ]
  },
  {
   "cell_type": "code",
   "execution_count": 31,
   "metadata": {
    "collapsed": true
   },
   "outputs": [],
   "source": [
    "spacy.pipeline.EntityRecognizer.load?"
   ]
  },
  {
   "cell_type": "code",
   "execution_count": 34,
   "metadata": {
    "collapsed": false
   },
   "outputs": [],
   "source": [
    "import pathlib\n",
    "ner = spacy.pipeline.EntityRecognizer.load(pathlib.Path('/media/sf_VBox_Shared/spacy/extra/'), nlp.vocab)"
   ]
  },
  {
   "cell_type": "code",
   "execution_count": 35,
   "metadata": {
    "collapsed": false
   },
   "outputs": [
    {
     "name": "stdout",
     "output_type": "stream",
     "text": [
      "CONNL dataset loaded.\n"
     ]
    }
   ],
   "source": [
    "docs_test, entities_test = models.NERtagger.read_connl(filepath_test, nlp.vocab)"
   ]
  },
  {
   "cell_type": "code",
   "execution_count": 36,
   "metadata": {
    "collapsed": false
   },
   "outputs": [],
   "source": [
    "example_doc = docs_test[0]"
   ]
  },
  {
   "cell_type": "code",
   "execution_count": 37,
   "metadata": {
    "collapsed": false
   },
   "outputs": [
    {
     "name": "stdout",
     "output_type": "stream",
     "text": [
      "(u'Dat', u'', u'', 'O')\n",
      "(u'is', u'', u'', 'O')\n",
      "(u'verder', u'', u'', 'O')\n",
      "(u'opgelaaid', u'', u'', 'O')\n",
      "(u'door', u'', u'', 'O')\n",
      "(u'windsnelheden', u'', u'', 'O')\n",
      "(u'die', u'', u'', 'O')\n",
      "(u'oplopen', u'', u'', 'O')\n",
      "(u'tot', u'', u'', 'O')\n",
      "(u'35', u'', u'', 'O')\n",
      "(u'kilometer', u'', u'', 'O')\n",
      "(u'per', u'', u'', 'O')\n",
      "(u'uur', u'', u'', 'O')\n",
      "(u'.', u'', u'', 'O')\n"
     ]
    }
   ],
   "source": [
    "ner(example_doc)\n",
    "for word in example_doc:\n",
    "    print(word.text, word.tag_, word.ent_type_, word.ent_iob_)"
   ]
  },
  {
   "cell_type": "code",
   "execution_count": 39,
   "metadata": {
    "collapsed": false
   },
   "outputs": [],
   "source": [
    "scorer = spacy.scorer.Scorer()\n",
    "for doc, ent in zip(docs_test, entities_test):\n",
    "    ner(doc)\n",
    "    gold = GoldParse(doc, entities=ent, deps=['']*len(doc))\n",
    "    scorer.score(doc, gold, verbose=True, punct_labels=('p', 'punct'))"
   ]
  },
  {
   "cell_type": "code",
   "execution_count": 40,
   "metadata": {
    "collapsed": false
   },
   "outputs": [
    {
     "data": {
      "text/plain": [
       "{u'ents_f': 37.40379681888148,\n",
       " u'ents_p': 53.72144436256448,\n",
       " u'ents_r': 28.689492325855966,\n",
       " u'las': 100.0,\n",
       " u'tags_acc': 0.0,\n",
       " u'token_acc': 100.0,\n",
       " u'uas': 100.0}"
      ]
     },
     "execution_count": 40,
     "metadata": {},
     "output_type": "execute_result"
    }
   ],
   "source": [
    "scorer.scores"
   ]
  },
  {
   "cell_type": "code",
   "execution_count": null,
   "metadata": {
    "collapsed": true
   },
   "outputs": [],
   "source": []
  }
 ],
 "metadata": {
  "anaconda-cloud": {},
  "kernelspec": {
   "display_name": "Python [conda env:nlppln]",
   "language": "python",
   "name": "conda-env-nlppln-py"
  },
  "language_info": {
   "codemirror_mode": {
    "name": "ipython",
    "version": 2
   },
   "file_extension": ".py",
   "mimetype": "text/x-python",
   "name": "python",
   "nbconvert_exporter": "python",
   "pygments_lexer": "ipython2",
   "version": "2.7.12"
  }
 },
 "nbformat": 4,
 "nbformat_minor": 0
}
