{
 "cells": [
  {
   "cell_type": "code",
   "execution_count": 1,
   "metadata": {
    "collapsed": false
   },
   "outputs": [],
   "source": [
    "%matplotlib inline\n",
    "\n",
    "import matplotlib\n",
    "import numpy as np\n",
    "import matplotlib.pyplot as plt"
   ]
  },
  {
   "cell_type": "code",
   "execution_count": 2,
   "metadata": {
    "collapsed": false
   },
   "outputs": [],
   "source": [
    "import codecs\n",
    "\n",
    "# UD_Dutch\n",
    "data_dir = '/home/jvdzwaan/data/UD_Dutch/'\n",
    "test = data_dir + 'nl-ud-test.conllu'\n",
    "train = data_dir + 'nl-ud-train.conllu'\n",
    "\n",
    "# UD_Dutch_LassySmall\n",
    "#data_dir = '/home/jvdzwaan/data/UD_Dutch-LassySmall/'\n",
    "#test = data_dir + 'nl_lassysmall-ud-test.conllu'\n",
    "#train = data_dir + 'nl_lassysmall-ud-train.conllu'"
   ]
  },
  {
   "cell_type": "code",
   "execution_count": 3,
   "metadata": {
    "collapsed": true
   },
   "outputs": [],
   "source": [
    "def get_sentence(data):\n",
    "    words = []\n",
    "    tags = []\n",
    "    parts = data.split('\\n')\n",
    "    if parts:\n",
    "        for part in parts:\n",
    "            if not part.startswith('#'):\n",
    "                d = part.split()\n",
    "                if len(d) > 3:\n",
    "                    words.append(d[1])\n",
    "                    tags.append(d[3])\n",
    "                \n",
    "    return words, tags\n",
    "    \n",
    "\n",
    "def read_connl(filepath):\n",
    "    with codecs.open(filepath, encoding='utf-8') as f:\n",
    "        data = f.read()\n",
    "        \n",
    "    sentences = data.split('\\n\\n')\n",
    "    for sentence in sentences:\n",
    "        yield get_sentence(sentence)"
   ]
  },
  {
   "cell_type": "code",
   "execution_count": 4,
   "metadata": {
    "collapsed": false
   },
   "outputs": [
    {
     "name": "stdout",
     "output_type": "stream",
     "text": [
      "{u'ADV': {'pos': u'ADV'}, u'NOUN': {'pos': u'NOUN'}, u'ADP': {'pos': u'ADP'}, u'PRON': {'pos': u'PRON'}, u'SCONJ': {'pos': u'SCONJ'}, u'PROPN': {'pos': u'PROPN'}, u'DET': {'pos': u'DET'}, u'SYM': {'pos': u'SYM'}, u'INTJ': {'pos': u'INTJ'}, u'PUNCT': {'pos': u'PUNCT'}, u'NUM': {'pos': u'NUM'}, u'AUX': {'pos': u'AUX'}, u'X': {'pos': u'X'}, u'CONJ': {'pos': u'CONJ'}, u'ADJ': {'pos': u'ADJ'}, u'VERB': {'pos': u'VERB'}}\n"
     ]
    }
   ],
   "source": [
    "# create tag map and data\n",
    "import json\n",
    "import codecs\n",
    "\n",
    "tags = set()\n",
    "data = []\n",
    "for w, t in read_connl(train):\n",
    "    tags.update(t)\n",
    "    data.append((w,t))\n",
    "\n",
    "tag_map = {}    \n",
    "for t in tags:\n",
    "    tag_map[t] = {'pos': t}\n",
    "print tag_map\n",
    "\n",
    "with codecs.open('/home/jvdzwaan/data/tmp/sherlock/spaCy/vocab/tag_map.json', 'wb', encoding='utf-8') as f:\n",
    "    json.dump(tag_map, f, indent=2, encoding='utf-8')"
   ]
  },
  {
   "cell_type": "code",
   "execution_count": 5,
   "metadata": {
    "collapsed": false
   },
   "outputs": [],
   "source": [
    "import spacy\n",
    "\n",
    "def get_accuarcy(vocab, tagger, filepath_test):\n",
    "    docs_test = []\n",
    "    tags_test = []\n",
    "    scorer = spacy.scorer.Scorer()\n",
    "    for w,t in read_connl(filepath_test):\n",
    "        doc = spacy.tokens.Doc(vocab, words=w)\n",
    "        tagger(doc)\n",
    "        gold = GoldParse(doc, tags=t, entities=['O']*len(t), deps=['']*len(doc))\n",
    "        docs_test.append(doc)\n",
    "        tags_test.append(t)\n",
    "        scorer.score(doc, gold, verbose=True)\n",
    "    return scorer.scores['tags_acc']"
   ]
  },
  {
   "cell_type": "code",
   "execution_count": 7,
   "metadata": {
    "collapsed": false
   },
   "outputs": [
    {
     "name": "stdout",
     "output_type": "stream",
     "text": [
      " 0 1 2 3 4 5 6 7 8 9 10 11 12 13 14 15 16 17 18 19 20 21 22 23 24\n",
      "number of sentences 13001\n",
      "number of sentences that failed 0\n"
     ]
    }
   ],
   "source": [
    "import spacy\n",
    "from spacy.vocab import Vocab\n",
    "from spacy.tagger import Tagger\n",
    "from spacy.tokens import Doc\n",
    "from spacy.gold import GoldParse\n",
    "from spacy.language import BaseDefaults\n",
    "\n",
    "import random\n",
    "\n",
    "# Use empty vocabulary\n",
    "#vocab = Vocab(tag_map=tag_map, lex_attr_getters=BaseDefaults.lex_attr_getters)\n",
    "\n",
    "# Use vocabulary with Dutch data\n",
    "nlp = spacy.load('nl')\n",
    "vocab = nlp.vocab\n",
    "\n",
    "tagger = Tagger(vocab)\n",
    "\n",
    "n_iter = 25\n",
    "failed_sentences = 0\n",
    "sentences = 0\n",
    "accuracy_test = []\n",
    "accuracy_train = []\n",
    "\n",
    "for i in range(n_iter):\n",
    "    print i,\n",
    "    random.shuffle(data)\n",
    "    for sample in data:\n",
    "        sentences += 1\n",
    "            \n",
    "        try:\n",
    "            doc = Doc(vocab, words=sample[0])\n",
    "            gold = GoldParse(doc, tags=sample[1])\n",
    "            \n",
    "            tagger.update(doc, gold)\n",
    "        except Exception:\n",
    "             failed_sentences += 1\n",
    "    accuracy_test.append(get_accuarcy(vocab, tagger, test))\n",
    "    accuracy_train.append(get_accuarcy(vocab, tagger, train))\n",
    "\n",
    "print\n",
    "print 'number of sentences', sentences/n_iter\n",
    "print 'number of sentences that failed', failed_sentences/n_iter"
   ]
  },
  {
   "cell_type": "code",
   "execution_count": 8,
   "metadata": {
    "collapsed": false
   },
   "outputs": [
    {
     "data": {
      "image/png": "[encoded data removed]",
      "text/plain": [
       "<matplotlib.figure.Figure at 0x7f13c25691d0>"
      ]
     },
     "metadata": {},
     "output_type": "display_data"
    }
   ],
   "source": [
    "plt.plot(accuracy_test)\n",
    "plt.ylabel('Accuracy')\n",
    "plt.xlabel('Iteration')\n",
    "plt.show()"
   ]
  },
  {
   "cell_type": "code",
   "execution_count": 9,
   "metadata": {
    "collapsed": false
   },
   "outputs": [
    {
     "data": {
      "image/png": "[encoded data removed]",
      "text/plain": [
       "<matplotlib.figure.Figure at 0x7f13c5357b50>"
      ]
     },
     "metadata": {},
     "output_type": "display_data"
    }
   ],
   "source": [
    "plt.plot(accuracy_train)\n",
    "plt.ylabel('Accuracy')\n",
    "plt.xlabel('Iteration')\n",
    "plt.show()"
   ]
  },
  {
   "cell_type": "code",
   "execution_count": 10,
   "metadata": {
    "collapsed": false
   },
   "outputs": [
    {
     "data": {
      "text/plain": [
       "88.60174567858977"
      ]
     },
     "execution_count": 10,
     "metadata": {},
     "output_type": "execute_result"
    }
   ],
   "source": [
    "accuracy_test[-1]"
   ]
  },
  {
   "cell_type": "code",
   "execution_count": 10,
   "metadata": {
    "collapsed": false
   },
   "outputs": [
    {
     "name": "stdout",
     "output_type": "stream",
     "text": [
      "38268 1\n"
     ]
    }
   ],
   "source": [
    "print len(vocab.strings), len(vocab)"
   ]
  },
  {
   "cell_type": "code",
   "execution_count": 11,
   "metadata": {
    "collapsed": false
   },
   "outputs": [
    {
     "name": "stdout",
     "output_type": "stream",
     "text": [
      "0\n",
      "0\n",
      "0\n",
      "0\n",
      "0\n",
      "0\n"
     ]
    }
   ],
   "source": [
    "words =[u'werken', u'muis', u'chocolade', u'reeds', u'insect', u'tuinman']\n",
    "for word in words:\n",
    "    l = vocab[word]\n",
    "    print l.cluster"
   ]
  },
  {
   "cell_type": "code",
   "execution_count": 30,
   "metadata": {
    "collapsed": true
   },
   "outputs": [],
   "source": [
    "tagger.model.end_training()"
   ]
  },
  {
   "cell_type": "code",
   "execution_count": 31,
   "metadata": {
    "collapsed": false
   },
   "outputs": [
    {
     "name": "stdout",
     "output_type": "stream",
     "text": [
      "/home/jvdzwaan/data/tmp/sherlock/spaCy/\n",
      "/home/jvdzwaan/data/tmp/sherlock/spaCy/vocab/\n",
      "/home/jvdzwaan/data/tmp/sherlock/spaCy/pos/\n"
     ]
    }
   ],
   "source": [
    "import os\n",
    "def create_dirs(fname):\n",
    "    \"\"\"Create (output) directories if they don't exist\n",
    "    \"\"\"\n",
    "    if not os.path.exists(fname):\n",
    "        os.makedirs(fname)\n",
    "        \n",
    "out_dirs = ['/home/jvdzwaan/data/tmp/sherlock/spaCy/', '/home/jvdzwaan/data/tmp/sherlock/spaCy/vocab/', '/home/jvdzwaan/data/tmp/sherlock/spaCy/pos/']\n",
    "for o in out_dirs:\n",
    "    print o\n",
    "    create_dirs(o)\n",
    "\n",
    "tagger.model.dump(os.path.join(out_dirs[0], 'pos', 'model'))\n",
    "with codecs.open(os.path.join(out_dirs[0], 'vocab', 'strings.json'), 'wb', encoding='utf-8') as file_:\n",
    "    tagger.vocab.strings.dump(file_)"
   ]
  },
  {
   "cell_type": "code",
   "execution_count": 32,
   "metadata": {
    "collapsed": false
   },
   "outputs": [
    {
     "name": "stdout",
     "output_type": "stream",
     "text": [
      "18\n"
     ]
    }
   ],
   "source": [
    "# save other relevant models (taken from spaCy/language.py end_training line 353)\n",
    "from spacy.attrs import TAG\n",
    "tagger_freqs = list(tagger.freqs[TAG].items())\n",
    "print len(tagger_freqs)"
   ]
  },
  {
   "cell_type": "code",
   "execution_count": 33,
   "metadata": {
    "collapsed": true
   },
   "outputs": [],
   "source": [
    "with codecs.open(os.path.join(out_dirs[0], 'vocab', 'serializer.json'), 'wb', encoding='utf-8') as file_:\n",
    "            file_.write(\n",
    "                json.dumps([\n",
    "                    (TAG, tagger_freqs)\n",
    "                ]))"
   ]
  },
  {
   "cell_type": "code",
   "execution_count": 34,
   "metadata": {
    "collapsed": true
   },
   "outputs": [],
   "source": [
    "vocab.dump(os.path.join(out_dirs[0], 'vocab', 'lexemes.bin'))"
   ]
  }
 ],
 "metadata": {
  "kernelspec": {
   "display_name": "Python 2",
   "language": "python",
   "name": "python2"
  },
  "language_info": {
   "codemirror_mode": {
    "name": "ipython",
    "version": 2
   },
   "file_extension": ".py",
   "mimetype": "text/x-python",
   "name": "python",
   "nbconvert_exporter": "python",
   "pygments_lexer": "ipython2",
   "version": "2.7.11+"
  }
 },
 "nbformat": 4,
 "nbformat_minor": 1
}
