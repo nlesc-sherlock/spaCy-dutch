{
 "cells": [
  {
   "cell_type": "code",
   "execution_count": 10,
   "metadata": {
    "collapsed": false
   },
   "outputs": [],
   "source": [
    "from __future__ import unicode_literals, print_function\n",
    "\n",
    "import plac\n",
    "from os import path\n",
    "import os\n",
    "import bz2\n",
    "import ujson\n",
    "from preshed.counter import PreshCounter\n",
    "import io\n",
    "\n",
    "from spacy.en import English\n",
    "from spacy.nl import Dutch\n",
    "from spacy.strings import StringStore\n",
    "from spacy.attrs import ORTH\n",
    "from spacy.tokenizer import Tokenizer\n",
    "from spacy.vocab import Vocab\n",
    "\n",
    "import spacy\n",
    "import codecs"
   ]
  },
  {
   "cell_type": "code",
   "execution_count": 9,
   "metadata": {
    "collapsed": false
   },
   "outputs": [],
   "source": [
    "nlp = spacy.load('nl')\n",
    "vocab = nlp.vocab\n",
    "tokenizer = nlp.tokenizer"
   ]
  },
  {
   "cell_type": "code",
   "execution_count": 20,
   "metadata": {
    "collapsed": true
   },
   "outputs": [],
   "source": [
    "filedir = '/media/sf_VBox_Shared/nlppln/nlwiki-text/'\n",
    "#filename = '/media/sf_VBox_Shared/nlppln/nlwiki-text/00cef14e-44a7-4af3-9b1f-7ebbf28d3c05'"
   ]
  },
  {
   "cell_type": "code",
   "execution_count": 41,
   "metadata": {
    "collapsed": false
   },
   "outputs": [],
   "source": [
    "counts = PreshCounter()\n",
    "doccounts = PreshCounter()\n",
    "for filename in os.listdir(filedir):\n",
    "    with codecs.open(os.path.join(filedir, filename), encoding='utf-8') as f:\n",
    "        data = f.read()\n",
    "        doc = tokenizer(data)\n",
    "        doc.count_by(ORTH, counts=counts)\n",
    "        doccount = doc.count_by(ORTH)\n",
    "        for k, v in doccount.iteritems():\n",
    "            doccounts.inc(k, 1)"
   ]
  },
  {
   "cell_type": "code",
   "execution_count": 45,
   "metadata": {
    "collapsed": false
   },
   "outputs": [],
   "source": [
    "output_loc = '/media/sf_VBox_Shared/spacy/nl-input/corpora-data/nl/freqs.txt'\n",
    "\n",
    "# freq, doc_freq, key\n",
    "with codecs.open(output_loc, 'w', 'utf8') as file_:\n",
    "    for orth, freq in counts:\n",
    "        string = tokenizer.vocab.strings[orth]\n",
    "        if not string.isspace():\n",
    "            doc_freq = doccounts[orth]\n",
    "            output = unicode('%d\\t%s\\t%s\\n' % (freq, doc_freq, string))\n",
    "            file_.write(output)"
   ]
  },
  {
   "cell_type": "code",
   "execution_count": 46,
   "metadata": {
    "collapsed": true
   },
   "outputs": [],
   "source": [
    "import gzip\n"
   ]
  },
  {
   "cell_type": "code",
   "execution_count": 47,
   "metadata": {
    "collapsed": true
   },
   "outputs": [],
   "source": [
    "gzip.open?"
   ]
  },
  {
   "cell_type": "code",
   "execution_count": 42,
   "metadata": {
    "collapsed": false
   },
   "outputs": [
    {
     "name": "stdout",
     "output_type": "stream",
     "text": [
      "en 13891 878\n",
      "met 4671 721\n",
      "ook 2342 624\n",
      "een 12408 964\n",
      ") 10887 886\n",
      "de 32172 951\n",
      "die 3537 674\n",
      ". 27831 925\n",
      "In 3024 613\n",
      "is 5442 831\n",
      ", 25949 954\n",
      "dat 2884 561\n",
      "op 4344 693\n",
      "worden 1730 453\n",
      "in 14337 919\n",
      "De 5026 733\n",
      "van 20575 958\n",
      "\" 9066 664\n",
      "bij 1673 479\n",
      "maar 1348 447\n",
      "aan 2838 597\n",
      "er 1485 456\n",
      "om 1628 467\n",
      "te 3853 617\n",
      "tot 2075 531\n",
      "zijn 4478 685\n",
      "het 12486 862\n",
      "Het 2261 582\n",
      "werd 3133 494\n",
      "naar 1505 455\n",
      "wordt 1967 477\n",
      "door 3094 614\n",
      "als 2842 620\n",
      "uit 2216 579\n",
      "deze 1191 419\n",
      "niet 1671 457\n",
      "zich 1082 372\n",
      "was 2658 501\n",
      "heeft 1146 395\n",
      "voor 3519 646\n",
      "hij 2149 338\n",
      "of 2228 490\n",
      ": 7320 886\n",
      "- 5299 284\n",
      "; 1001 287\n",
      "* 10426 633\n",
      "Categorie 1672 737\n",
      "% 1282 87\n"
     ]
    }
   ],
   "source": [
    "for orth, freq in counts:\n",
    "    string = tokenizer.vocab.strings[orth]\n",
    "    if not string.isspace() and freq>1000:\n",
    "        print(string, freq, doccounts[orth])"
   ]
  },
  {
   "cell_type": "code",
   "execution_count": null,
   "metadata": {
    "collapsed": true
   },
   "outputs": [],
   "source": []
  }
 ],
 "metadata": {
  "anaconda-cloud": {},
  "kernelspec": {
   "display_name": "Python [conda env:nlppln]",
   "language": "python",
   "name": "conda-env-nlppln-py"
  },
  "language_info": {
   "codemirror_mode": {
    "name": "ipython",
    "version": 2
   },
   "file_extension": ".py",
   "mimetype": "text/x-python",
   "name": "python",
   "nbconvert_exporter": "python",
   "pygments_lexer": "ipython2",
   "version": "2.7.12"
  }
 },
 "nbformat": 4,
 "nbformat_minor": 0
}
