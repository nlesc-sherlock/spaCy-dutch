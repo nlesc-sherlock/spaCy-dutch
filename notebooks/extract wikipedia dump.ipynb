{
 "cells": [
  {
   "cell_type": "code",
   "execution_count": 1,
   "metadata": {
    "collapsed": false
   },
   "outputs": [],
   "source": [
    "import findspark\n",
    "findspark.init()\n",
    "import pyspark\n",
    "sc = pyspark.SparkContext()"
   ]
  },
  {
   "cell_type": "code",
   "execution_count": 2,
   "metadata": {
    "collapsed": true
   },
   "outputs": [],
   "source": [
    "from sift.corpora import wikipedia\n",
    "from sift.models import text, links"
   ]
  },
  {
   "cell_type": "code",
   "execution_count": 3,
   "metadata": {
    "collapsed": true
   },
   "outputs": [],
   "source": [
    "corpus = wikipedia.WikipediaCorpus()(sc, '/home/jvdzwaan/data/nlwiki-dump')"
   ]
  },
  {
   "cell_type": "code",
   "execution_count": 4,
   "metadata": {
    "collapsed": false
   },
   "outputs": [],
   "source": [
    "redirects = wikipedia.WikipediaRedirects()(corpus)\n",
    "docs = wikipedia.WikipediaArticles()(corpus, redirects)"
   ]
  },
  {
   "cell_type": "code",
   "execution_count": 5,
   "metadata": {
    "collapsed": false
   },
   "outputs": [
    {
     "name": "stdout",
     "output_type": "stream",
     "text": [
      "80592\n"
     ]
    }
   ],
   "source": [
    "print docs.count()"
   ]
  },
  {
   "cell_type": "code",
   "execution_count": 7,
   "metadata": {
    "collapsed": false,
    "scrolled": true
   },
   "outputs": [],
   "source": [
    "import codecs\n",
    "import os\n",
    "import uuid\n",
    "\n",
    "for d in docs.toLocalIterator():\n",
    "    fname = str(uuid.uuid4())\n",
    "    with codecs.open(os.path.join('/home/jvdzwaan/data/tmp/nlwiki-text/', fname), 'wb', encoding='utf-8') as f:\n",
    "        f.write(d['text'])"
   ]
  },
  {
   "cell_type": "code",
   "execution_count": 9,
   "metadata": {
    "collapsed": true
   },
   "outputs": [],
   "source": [
    "import codecs\n",
    "import os\n",
    "import uuid\n",
    "\n",
    "for d in docs.take(1000):\n",
    "    fname = str(uuid.uuid4())\n",
    "    with codecs.open(os.path.join('/home/jvdzwaan/data/nlwiki-text/', fname), 'wb', encoding='utf-8') as f:\n",
    "        f.write(d['text'])"
   ]
  }
 ],
 "metadata": {
  "kernelspec": {
   "display_name": "Python 2",
   "language": "python",
   "name": "python2"
  },
  "language_info": {
   "codemirror_mode": {
    "name": "ipython",
    "version": 2
   },
   "file_extension": ".py",
   "mimetype": "text/x-python",
   "name": "python",
   "nbconvert_exporter": "python",
   "pygments_lexer": "ipython2",
   "version": "2.7.11+"
  }
 },
 "nbformat": 4,
 "nbformat_minor": 1
}
