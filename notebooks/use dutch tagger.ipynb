{
 "cells": [
  {
   "cell_type": "code",
   "execution_count": 8,
   "metadata": {
    "collapsed": false
   },
   "outputs": [],
   "source": [
    "from spacy.vocab import Vocab\n",
    "from spacy.tagger import Tagger\n",
    "from spacy.tokens import Doc\n",
    "import pathlib\n",
    "\n",
    "vocab = Vocab.load(pathlib.Path('/home/jvdzwaan/data/tmp/sherlock/spaCy/'), lemmatizer=False)"
   ]
  },
  {
   "cell_type": "code",
   "execution_count": 9,
   "metadata": {
    "collapsed": true
   },
   "outputs": [],
   "source": [
    "tagger = Tagger.load(pathlib.Path('/home/jvdzwaan/data/tmp/sherlock/spaCy/'), vocab=vocab)"
   ]
  },
  {
   "cell_type": "code",
   "execution_count": 15,
   "metadata": {
    "collapsed": false
   },
   "outputs": [
    {
     "name": "stdout",
     "output_type": "stream",
     "text": [
      "(u'Piet', u'', u'')\n",
      "(u'leest', u'', u'')\n",
      "(u'een', u'', u'')\n",
      "(u'stom', u'', u'')\n",
      "(u'boek', u'', u'')\n"
     ]
    }
   ],
   "source": [
    "doc = Doc(vocab, orths_and_spaces=zip([u\"Piet\", u\"leest\", u\"een\", u\"stom\", u\"boek\"], [True] * 5))\n",
    "for word in doc:\n",
    "    print(word.text, word.tag_, word.pos_)"
   ]
  },
  {
   "cell_type": "code",
   "execution_count": 16,
   "metadata": {
    "collapsed": false
   },
   "outputs": [
    {
     "name": "stdout",
     "output_type": "stream",
     "text": [
      "(u'Piet', u'ADJ(dial)', u'ADJ')\n",
      "(u'leest', u'ADJ(dial)', u'ADJ')\n",
      "(u'een', u'ADJ(dial)', u'ADJ')\n",
      "(u'stom', u'ADJ(dial)', u'ADJ')\n",
      "(u'boek', u'ADJ(dial)', u'ADJ')\n"
     ]
    }
   ],
   "source": [
    "tagger(doc)\n",
    "for word in doc:\n",
    "    print(word.text, word.tag_, word.pos_)"
   ]
  }
 ],
 "metadata": {
  "kernelspec": {
   "display_name": "Python 2",
   "language": "python",
   "name": "python2"
  },
  "language_info": {
   "codemirror_mode": {
    "name": "ipython",
    "version": 2
   },
   "file_extension": ".py",
   "mimetype": "text/x-python",
   "name": "python",
   "nbconvert_exporter": "python",
   "pygments_lexer": "ipython2",
   "version": "2.7.11+"
  }
 },
 "nbformat": 4,
 "nbformat_minor": 1
}
