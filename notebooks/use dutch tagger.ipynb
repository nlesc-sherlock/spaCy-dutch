{
 "cells": [
  {
   "cell_type": "code",
   "execution_count": 1,
   "metadata": {
    "collapsed": true
   },
   "outputs": [],
   "source": [
    "%load_ext autoreload\n",
    "%autoreload 2"
   ]
  },
  {
   "cell_type": "code",
   "execution_count": 5,
   "metadata": {
    "collapsed": false
   },
   "outputs": [],
   "source": [
    "from spacy.vocab import Vocab\n",
    "from spacy.tagger import Tagger\n",
    "from spacy.tokens import Doc\n",
    "import pathlib\n",
    "\n",
    "p = '/home/jvdzwaan/data/tmp/sherlock/spaCy/'\n",
    "#p = '/home/jvdzwaan/code/spaCy/spacy/data/nl-0.1.0/'\n",
    "\n",
    "vocab = Vocab.load(pathlib.Path(p))"
   ]
  },
  {
   "cell_type": "code",
   "execution_count": 6,
   "metadata": {
    "collapsed": false
   },
   "outputs": [],
   "source": [
    "tagger = Tagger.load(pathlib.Path(p+'pos'), vocab=vocab)"
   ]
  },
  {
   "cell_type": "code",
   "execution_count": 9,
   "metadata": {
    "collapsed": false
   },
   "outputs": [
    {
     "name": "stdout",
     "output_type": "stream",
     "text": [
      "(u'Piet', u'', u'')\n",
      "(u'leest', u'', u'')\n",
      "(u'het', u'', u'')\n",
      "(u'stomme', u'', u'')\n",
      "(u'boek', u'', u'')\n"
     ]
    }
   ],
   "source": [
    "doc = Doc(vocab, orths_and_spaces=zip([u\"Piet\", u\"leest\", u\"het\", u\"stomme\", u\"boek\"], [True] * 5))\n",
    "for word in doc:\n",
    "    print(word.text, word.tag_, word.pos_)"
   ]
  },
  {
   "cell_type": "code",
   "execution_count": 10,
   "metadata": {
    "collapsed": false
   },
   "outputs": [
    {
     "name": "stdout",
     "output_type": "stream",
     "text": [
      "(u'Piet', u'PRON', u'PRON')\n",
      "(u'leest', u'VERB', u'VERB')\n",
      "(u'het', u'DET', u'DET')\n",
      "(u'stomme', u'NOUN', u'NOUN')\n",
      "(u'boek', u'ADP', u'ADP')\n"
     ]
    }
   ],
   "source": [
    "tagger(doc)\n",
    "for word in doc:\n",
    "    print(word.text, word.tag_, word.pos_)"
   ]
  },
  {
   "cell_type": "code",
   "execution_count": 1,
   "metadata": {
    "collapsed": false
   },
   "outputs": [],
   "source": [
    "import spacy\n",
    "nlp = spacy.load('nl')"
   ]
  },
  {
   "cell_type": "code",
   "execution_count": 2,
   "metadata": {
    "collapsed": false
   },
   "outputs": [
    {
     "name": "stdout",
     "output_type": "stream",
     "text": [
      "(u'Piet', u'PRON', u'PRON')\n",
      "(u'leest', u'VERB', u'VERB')\n",
      "(u'een', u'DET', u'DET')\n",
      "(u'stom', u'NOUN', u'NOUN')\n",
      "(u'boek', u'NOUN', u'NOUN')\n",
      "(u'.', u'PUNCT', u'PUNCT')\n"
     ]
    }
   ],
   "source": [
    "doc = nlp(u'Piet leest een stom boek.') \n",
    "for word in doc:\n",
    "    print(word.text, word.tag_, word.pos_)"
   ]
  },
  {
   "cell_type": "code",
   "execution_count": 3,
   "metadata": {
    "collapsed": false
   },
   "outputs": [
    {
     "data": {
      "text/plain": [
       "['__bytes__',\n",
       " '__class__',\n",
       " '__delattr__',\n",
       " '__doc__',\n",
       " '__format__',\n",
       " '__getattribute__',\n",
       " '__getitem__',\n",
       " '__hash__',\n",
       " '__init__',\n",
       " '__iter__',\n",
       " '__len__',\n",
       " '__new__',\n",
       " '__pyx_vtable__',\n",
       " '__reduce__',\n",
       " '__reduce_ex__',\n",
       " '__repr__',\n",
       " '__setattr__',\n",
       " '__sizeof__',\n",
       " '__str__',\n",
       " '__subclasshook__',\n",
       " '__unicode__',\n",
       " '_py_tokens',\n",
       " '_realloc',\n",
       " '_vector',\n",
       " '_vector_norm',\n",
       " 'count_by',\n",
       " 'ents',\n",
       " 'from_array',\n",
       " 'from_bytes',\n",
       " 'has_vector',\n",
       " 'is_parsed',\n",
       " 'is_tagged',\n",
       " 'mem',\n",
       " 'merge',\n",
       " 'noun_chunks',\n",
       " 'noun_chunks_iterator',\n",
       " 'read_bytes',\n",
       " 'sentiment',\n",
       " 'sents',\n",
       " 'similarity',\n",
       " 'string',\n",
       " 'tensor',\n",
       " 'text',\n",
       " 'text_with_ws',\n",
       " 'to_array',\n",
       " 'to_bytes',\n",
       " 'user_data',\n",
       " 'user_hooks',\n",
       " 'user_span_hooks',\n",
       " 'user_token_hooks',\n",
       " 'vector',\n",
       " 'vector_norm',\n",
       " 'vocab']"
      ]
     },
     "execution_count": 3,
     "metadata": {},
     "output_type": "execute_result"
    }
   ],
   "source": [
    "dir(doc)"
   ]
  }
 ],
 "metadata": {
  "kernelspec": {
   "display_name": "Python 2",
   "language": "python",
   "name": "python2"
  },
  "language_info": {
   "codemirror_mode": {
    "name": "ipython",
    "version": 2
   },
   "file_extension": ".py",
   "mimetype": "text/x-python",
   "name": "python",
   "nbconvert_exporter": "python",
   "pygments_lexer": "ipython2",
   "version": "2.7.11+"
  }
 },
 "nbformat": 4,
 "nbformat_minor": 1
}
