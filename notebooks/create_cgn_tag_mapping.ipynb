{
 "cells": [
  {
   "cell_type": "code",
   "execution_count": 1,
   "metadata": {
    "collapsed": true
   },
   "outputs": [],
   "source": [
    "%load_ext autoreload\n",
    "%autoreload 2"
   ]
  },
  {
   "cell_type": "code",
   "execution_count": 3,
   "metadata": {
    "collapsed": false
   },
   "outputs": [
    {
     "name": "stdout",
     "output_type": "stream",
     "text": [
      "Warning: \"tar-untar\" is a Workflow, not a CommandLineTool\n",
      "Warning: \"anonymize\" is a Workflow, not a CommandLineTool\n",
      "Warning: \"wiki2saf\" is a Workflow, not a CommandLineTool\n",
      "Warning: \"create-cgn2universal-mapping\" is a Workflow, not a CommandLineTool\n",
      "Step \"frog-dir\": frogout = frog_dir(dir_in)\n",
      "Step \"saf-to-txt\": out_files = saf_to_txt(in_files)\n",
      "Step \"frog-to-saf\": saf = frog_to_saf(in_files)\n",
      "Step \"anonymize\":  = anonymize()\n",
      "Step \"cgn2universal4spacy\": metadata_out = cgn2universal4spacy(meta_in)\n",
      "Step \"tar\": tarOut = tar(tarfile, change_dir, in_files)\n",
      "Step \"language\": language_csv = language(dir_in)\n",
      "Step \"create-cgn2universal-mapping\":  = create_cgn2universal_mapping()\n",
      "Step \"untar\": out_files = untar(tarfile)\n",
      "Step \"extract-pos-tags\": metadata_out = extract_pos_tags(in_files)\n",
      "Step \"frog-single-text\": frogout = frog_single_text(text_in)\n",
      "Step \"tar-untar\":  = tar_untar()\n",
      "Step \"docx2txt\": out_files = docx2txt(in_files)\n",
      "Step \"apachetika\": out_files = apachetika(in_files[, tika_server])\n",
      "Step \"save-ner-data\": ner_statistics = save_ner_data(in_files)\n",
      "Step \"wiki2saf\":  = wiki2saf()\n",
      "Step \"download\": out_files = download(urls)\n",
      "Step \"replace-ner\": out_files = replace_ner(metadata, in_files[, mode])\n",
      "Step \"rename-and-copy-files\": out_files = rename_and_copy_files(in_files)\n"
     ]
    }
   ],
   "source": [
    "import nlppln\n",
    "from nlppln import WorkflowGenerator\n",
    "\n",
    "wf = WorkflowGenerator()\n",
    "wf.load('../cwl/')\n",
    "\n",
    "wf.list_steps()\n",
    "\n",
    "dir_in = wf.add_inputs(dir_in='Directory')\n",
    "\n",
    "frogout = wf.frog_dir(dir_in=dir_in)\n",
    "saf = wf.frog_to_saf(in_files=frogout)\n",
    "list_of_pos_tags = wf.extract_pos_tags(in_files=saf)\n",
    "mapping = wf.cgn2universal4spacy(meta_in=list_of_pos_tags)\n",
    "\n",
    "wf.add_outputs(pos_tags=list_of_pos_tags, mapping=mapping)\n",
    "\n",
    "wf.save('../cwl/create-cgn2universal-mapping.cwl')"
   ]
  }
 ],
 "metadata": {
  "kernelspec": {
   "display_name": "Python 2",
   "language": "python",
   "name": "python2"
  },
  "language_info": {
   "codemirror_mode": {
    "name": "ipython",
    "version": 2
   },
   "file_extension": ".py",
   "mimetype": "text/x-python",
   "name": "python",
   "nbconvert_exporter": "python",
   "pygments_lexer": "ipython2",
   "version": "2.7.11+"
  }
 },
 "nbformat": 4,
 "nbformat_minor": 1
}
