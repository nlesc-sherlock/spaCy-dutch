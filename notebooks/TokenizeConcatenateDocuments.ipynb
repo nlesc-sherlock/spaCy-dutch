{
 "cells": [
  {
   "cell_type": "code",
   "execution_count": 1,
   "metadata": {
    "collapsed": true
   },
   "outputs": [],
   "source": [
    "from __future__ import unicode_literals, print_function\n",
    "\n",
    "import plac\n",
    "from os import path\n",
    "import os\n",
    "import bz2\n",
    "import ujson\n",
    "from preshed.counter import PreshCounter\n",
    "import io\n",
    "\n",
    "from spacy.en import English\n",
    "from spacy.nl import Dutch\n",
    "from spacy.strings import StringStore\n",
    "from spacy.attrs import ORTH\n",
    "from spacy.tokenizer import Tokenizer\n",
    "from spacy.vocab import Vocab\n",
    "\n",
    "import spacy\n",
    "import codecs"
   ]
  },
  {
   "cell_type": "code",
   "execution_count": 28,
   "metadata": {
    "collapsed": true
   },
   "outputs": [],
   "source": [
    "corpus_dir = '/media/sf_VBox_Shared/nlppln/nlwiki-text/'\n",
    "out_file = '/media/sf_VBox_Shared/nlppln/nlwiki-text-tokenized.txt'\n",
    "lang_id = 'nl'"
   ]
  },
  {
   "cell_type": "code",
   "execution_count": 29,
   "metadata": {
    "collapsed": false
   },
   "outputs": [],
   "source": [
    "nlp = spacy.load(lang_id)\n",
    "vocab = nlp.vocab\n",
    "tokenizer = nlp.tokenizer\n",
    "\n",
    "\n",
    "with codecs.open(out_file, 'w', 'utf8') as out:\n",
    "    for filename in os.listdir(corpus_dir):\n",
    "        with codecs.open(os.path.join(corpus_dir, filename),\n",
    "                     encoding='utf-8') as f:\n",
    "            data = f.read()\n",
    "        doc = tokenizer(data)\n",
    "        text = u' '.join([token.text for token in doc])\n",
    "        out.write(text+u'\\n')"
   ]
  },
  {
   "cell_type": "code",
   "execution_count": 24,
   "metadata": {
    "collapsed": false
   },
   "outputs": [
    {
     "data": {
      "text/plain": [
       "u'Plattelandsnijverheid , ook wel het uitbestedingssysteem genoemd (Engels : \"putting-out system \" ; Duits : \"Verlagsystem \" ) , was een methode van huisnijverheid waarbij een ondernemer grondstoffen kocht en aan werklieden op het platteland leverde , meestal boeren . Deze verwerkten vanuit hun woning de grondstoffen tot (half)afgewerkte producten , vooral textiel . De boerinnen sponnen en boeren weefden de grondstoffen tot textiel . De ondernemer kocht vervolgens de producten op om ze weer door te verkopen . \\n\\n Het systeem vond zijn oorsprong in de middeleeuwen en kwam voor in steden waarbij de ondernemer zijn grondstoffen leverde aan meestervaklieden die gebonden waren aan de reglementen van hun desbetreffende ambacht . Nadien vond dit systeem ook zijn weg op het platteland . Hierbij kwam een buitenambachtelijke huisnijverheid tot stand , die dus niet-gereglementeerd was . Het bood echter wel een oplossing voor de boeren om in de winter iets extra te verdienen . Ook voor de ondernemer waren er voordelen omdat hij buiten de ambachten om kon produceren . Tevens reduceerde deze methode de hoge loonkost . Voor de plattelandsbewoner waren er ook voordelen : de investering bleef heel beperkt en hij kon het werk organiseren naast het werk op de akker . \\n\\n In de periode 1800-1850 werd de plattelandsnijverheid weggeconcurreerd door het fabriekssysteem van de industrialisatie . \\n\\n Zie ook \\n * Telewerk \\n\\n Bronnen \\n *VANDE GINSTE , S. , \\u2018Nieuwe Tijd \\u2019 , 2009 , VIVES , Torhout , p.126 \\n * Ren\\xe9 Vermeir(red . ) - \"Een inleiding tot de geschiedenis van de Vroegmoderne Tijd \" - Pagina \\'s 202 - 205 - Uitgeverij Van In , Wommelgem - 2008- ISBN 978 90 306 4806 2 \\n\\n Categorie : Arbeid \\n Categorie : Geschiedenis van de textielindustrie'"
      ]
     },
     "execution_count": 24,
     "metadata": {},
     "output_type": "execute_result"
    }
   ],
   "source": [
    "u' '.join([token.text for token in doc])"
   ]
  },
  {
   "cell_type": "code",
   "execution_count": null,
   "metadata": {
    "collapsed": true
   },
   "outputs": [],
   "source": []
  }
 ],
 "metadata": {
  "anaconda-cloud": {},
  "kernelspec": {
   "display_name": "Python [conda env:nlppln]",
   "language": "python",
   "name": "conda-env-nlppln-py"
  },
  "language_info": {
   "codemirror_mode": {
    "name": "ipython",
    "version": 2
   },
   "file_extension": ".py",
   "mimetype": "text/x-python",
   "name": "python",
   "nbconvert_exporter": "python",
   "pygments_lexer": "ipython2",
   "version": "2.7.12"
  }
 },
 "nbformat": 4,
 "nbformat_minor": 0
}
